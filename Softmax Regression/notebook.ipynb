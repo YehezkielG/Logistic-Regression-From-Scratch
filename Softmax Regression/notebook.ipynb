{
 "cells": [
  {
   "cell_type": "code",
   "execution_count": 1,
   "metadata": {},
   "outputs": [],
   "source": [
    "import pandas as pd;\n",
    "import SoftmaxRegression\n",
    "from sklearn.linear_model import LogisticRegression\n",
    "from sklearn.metrics import accuracy_score\n",
    "from sklearn.preprocessing import LabelEncoder\n",
    "from sklearn.model_selection import train_test_split\n",
    "\n",
    "df = pd.read_csv(\"personality_synthetic_dataset.csv\")\n",
    "df = df.dropna()"
   ]
  },
  {
   "cell_type": "code",
   "execution_count": 2,
   "metadata": {},
   "outputs": [
    {
     "data": {
      "text/html": [
       "<div>\n",
       "<style scoped>\n",
       "    .dataframe tbody tr th:only-of-type {\n",
       "        vertical-align: middle;\n",
       "    }\n",
       "\n",
       "    .dataframe tbody tr th {\n",
       "        vertical-align: top;\n",
       "    }\n",
       "\n",
       "    .dataframe thead th {\n",
       "        text-align: right;\n",
       "    }\n",
       "</style>\n",
       "<table border=\"1\" class=\"dataframe\">\n",
       "  <thead>\n",
       "    <tr style=\"text-align: right;\">\n",
       "      <th></th>\n",
       "      <th>personality_type</th>\n",
       "      <th>social_energy</th>\n",
       "      <th>alone_time_preference</th>\n",
       "      <th>talkativeness</th>\n",
       "      <th>deep_reflection</th>\n",
       "      <th>group_comfort</th>\n",
       "      <th>party_liking</th>\n",
       "      <th>listening_skill</th>\n",
       "      <th>empathy</th>\n",
       "      <th>creativity</th>\n",
       "      <th>...</th>\n",
       "      <th>spontaneity</th>\n",
       "      <th>adventurousness</th>\n",
       "      <th>reading_habit</th>\n",
       "      <th>sports_interest</th>\n",
       "      <th>online_social_usage</th>\n",
       "      <th>travel_desire</th>\n",
       "      <th>gadget_usage</th>\n",
       "      <th>work_style_collaborative</th>\n",
       "      <th>decision_speed</th>\n",
       "      <th>stress_handling</th>\n",
       "    </tr>\n",
       "  </thead>\n",
       "  <tbody>\n",
       "    <tr>\n",
       "      <th>0</th>\n",
       "      <td>1</td>\n",
       "      <td>6.794295</td>\n",
       "      <td>3.854670</td>\n",
       "      <td>8.725446</td>\n",
       "      <td>2.515151</td>\n",
       "      <td>7.097368</td>\n",
       "      <td>8.588762</td>\n",
       "      <td>6.774799</td>\n",
       "      <td>6.430132</td>\n",
       "      <td>6.142968</td>\n",
       "      <td>...</td>\n",
       "      <td>4.853313</td>\n",
       "      <td>8.257134</td>\n",
       "      <td>5.270555</td>\n",
       "      <td>10.000000</td>\n",
       "      <td>9.154296</td>\n",
       "      <td>4.816422</td>\n",
       "      <td>9.191711</td>\n",
       "      <td>8.313590</td>\n",
       "      <td>8.032376</td>\n",
       "      <td>7.176905</td>\n",
       "    </tr>\n",
       "    <tr>\n",
       "      <th>1</th>\n",
       "      <td>0</td>\n",
       "      <td>6.378988</td>\n",
       "      <td>5.731157</td>\n",
       "      <td>7.029529</td>\n",
       "      <td>7.274493</td>\n",
       "      <td>4.111199</td>\n",
       "      <td>3.258248</td>\n",
       "      <td>5.550909</td>\n",
       "      <td>3.958179</td>\n",
       "      <td>6.149457</td>\n",
       "      <td>...</td>\n",
       "      <td>6.067201</td>\n",
       "      <td>6.289347</td>\n",
       "      <td>5.753165</td>\n",
       "      <td>5.334303</td>\n",
       "      <td>4.683781</td>\n",
       "      <td>4.725666</td>\n",
       "      <td>5.956141</td>\n",
       "      <td>5.890619</td>\n",
       "      <td>3.158988</td>\n",
       "      <td>3.423577</td>\n",
       "    </tr>\n",
       "    <tr>\n",
       "      <th>2</th>\n",
       "      <td>0</td>\n",
       "      <td>7.459421</td>\n",
       "      <td>6.322263</td>\n",
       "      <td>3.922269</td>\n",
       "      <td>4.622261</td>\n",
       "      <td>5.343276</td>\n",
       "      <td>7.452152</td>\n",
       "      <td>9.483990</td>\n",
       "      <td>6.127654</td>\n",
       "      <td>7.032017</td>\n",
       "      <td>...</td>\n",
       "      <td>5.524244</td>\n",
       "      <td>9.238784</td>\n",
       "      <td>5.250405</td>\n",
       "      <td>3.153540</td>\n",
       "      <td>5.000338</td>\n",
       "      <td>6.139166</td>\n",
       "      <td>6.033048</td>\n",
       "      <td>5.807500</td>\n",
       "      <td>4.571003</td>\n",
       "      <td>5.647480</td>\n",
       "    </tr>\n",
       "    <tr>\n",
       "      <th>3</th>\n",
       "      <td>1</td>\n",
       "      <td>6.159626</td>\n",
       "      <td>3.097837</td>\n",
       "      <td>6.019093</td>\n",
       "      <td>1.965440</td>\n",
       "      <td>7.837140</td>\n",
       "      <td>10.000000</td>\n",
       "      <td>9.436733</td>\n",
       "      <td>8.949684</td>\n",
       "      <td>8.923875</td>\n",
       "      <td>...</td>\n",
       "      <td>4.327018</td>\n",
       "      <td>8.489791</td>\n",
       "      <td>5.312617</td>\n",
       "      <td>8.379936</td>\n",
       "      <td>7.601946</td>\n",
       "      <td>6.370056</td>\n",
       "      <td>5.410145</td>\n",
       "      <td>6.671781</td>\n",
       "      <td>6.600233</td>\n",
       "      <td>5.870088</td>\n",
       "    </tr>\n",
       "    <tr>\n",
       "      <th>4</th>\n",
       "      <td>2</td>\n",
       "      <td>5.568462</td>\n",
       "      <td>6.986722</td>\n",
       "      <td>3.913240</td>\n",
       "      <td>9.926161</td>\n",
       "      <td>1.650483</td>\n",
       "      <td>0.362298</td>\n",
       "      <td>7.470387</td>\n",
       "      <td>6.756837</td>\n",
       "      <td>9.507803</td>\n",
       "      <td>...</td>\n",
       "      <td>5.187689</td>\n",
       "      <td>3.167217</td>\n",
       "      <td>7.060235</td>\n",
       "      <td>2.333388</td>\n",
       "      <td>7.771569</td>\n",
       "      <td>5.534336</td>\n",
       "      <td>5.704598</td>\n",
       "      <td>5.832968</td>\n",
       "      <td>5.813099</td>\n",
       "      <td>3.758084</td>\n",
       "    </tr>\n",
       "  </tbody>\n",
       "</table>\n",
       "<p>5 rows × 30 columns</p>\n",
       "</div>"
      ],
      "text/plain": [
       "   personality_type  social_energy  alone_time_preference  talkativeness  \\\n",
       "0                 1       6.794295               3.854670       8.725446   \n",
       "1                 0       6.378988               5.731157       7.029529   \n",
       "2                 0       7.459421               6.322263       3.922269   \n",
       "3                 1       6.159626               3.097837       6.019093   \n",
       "4                 2       5.568462               6.986722       3.913240   \n",
       "\n",
       "   deep_reflection  group_comfort  party_liking  listening_skill   empathy  \\\n",
       "0         2.515151       7.097368      8.588762         6.774799  6.430132   \n",
       "1         7.274493       4.111199      3.258248         5.550909  3.958179   \n",
       "2         4.622261       5.343276      7.452152         9.483990  6.127654   \n",
       "3         1.965440       7.837140     10.000000         9.436733  8.949684   \n",
       "4         9.926161       1.650483      0.362298         7.470387  6.756837   \n",
       "\n",
       "   creativity  ...  spontaneity  adventurousness  reading_habit  \\\n",
       "0    6.142968  ...     4.853313         8.257134       5.270555   \n",
       "1    6.149457  ...     6.067201         6.289347       5.753165   \n",
       "2    7.032017  ...     5.524244         9.238784       5.250405   \n",
       "3    8.923875  ...     4.327018         8.489791       5.312617   \n",
       "4    9.507803  ...     5.187689         3.167217       7.060235   \n",
       "\n",
       "   sports_interest  online_social_usage  travel_desire  gadget_usage  \\\n",
       "0        10.000000             9.154296       4.816422      9.191711   \n",
       "1         5.334303             4.683781       4.725666      5.956141   \n",
       "2         3.153540             5.000338       6.139166      6.033048   \n",
       "3         8.379936             7.601946       6.370056      5.410145   \n",
       "4         2.333388             7.771569       5.534336      5.704598   \n",
       "\n",
       "   work_style_collaborative  decision_speed  stress_handling  \n",
       "0                  8.313590        8.032376         7.176905  \n",
       "1                  5.890619        3.158988         3.423577  \n",
       "2                  5.807500        4.571003         5.647480  \n",
       "3                  6.671781        6.600233         5.870088  \n",
       "4                  5.832968        5.813099         3.758084  \n",
       "\n",
       "[5 rows x 30 columns]"
      ]
     },
     "execution_count": 2,
     "metadata": {},
     "output_type": "execute_result"
    }
   ],
   "source": [
    "str_feature = df.select_dtypes(\"object\")\n",
    "encoder = LabelEncoder()\n",
    "for feature in str_feature:\n",
    "    encoded_data = encoder.fit_transform(df[feature])\n",
    "    df[feature] = encoded_data\n",
    "df.head()"
   ]
  },
  {
   "cell_type": "code",
   "execution_count": 3,
   "metadata": {},
   "outputs": [],
   "source": [
    "X = df.drop(columns=['personality_type'])  \n",
    "y = df['personality_type'] \n",
    "\n",
    "X_train, X_test, y_train, y_test = train_test_split(X, y, test_size=0.2, random_state=42)"
   ]
  },
  {
   "cell_type": "code",
   "execution_count": 4,
   "metadata": {},
   "outputs": [
    {
     "data": {
      "text/plain": [
       "np.float64(0.010390850830544604)"
      ]
     },
     "execution_count": 4,
     "metadata": {},
     "output_type": "execute_result"
    }
   ],
   "source": [
    "model_from_scrath = SoftmaxRegression.model()\n",
    "model_from_scrath.fit(X_train, y_train)"
   ]
  },
  {
   "cell_type": "code",
   "execution_count": 5,
   "metadata": {},
   "outputs": [],
   "source": [
    "y_pred_sracth = model_from_scrath.predict(X_test)"
   ]
  },
  {
   "cell_type": "code",
   "execution_count": 6,
   "metadata": {},
   "outputs": [
    {
     "name": "stdout",
     "output_type": "stream",
     "text": [
      "From scrath acuracy: 99.45%\n"
     ]
    }
   ],
   "source": [
    "accuracy_sklearn = accuracy_score(y_test, y_pred_sracth)\n",
    "print(f\"From scrath acuracy: {accuracy_sklearn * 100:.2f}%\")"
   ]
  },
  {
   "cell_type": "code",
   "execution_count": 9,
   "metadata": {},
   "outputs": [
    {
     "name": "stderr",
     "output_type": "stream",
     "text": [
      "c:\\Users\\ASUS\\AppData\\Local\\Programs\\Python\\Python311\\Lib\\site-packages\\sklearn\\linear_model\\_logistic.py:1272: FutureWarning: 'multi_class' was deprecated in version 1.5 and will be removed in 1.7. From then on, it will always use 'multinomial'. Leave it to its default value to avoid this warning.\n",
      "  warnings.warn(\n"
     ]
    }
   ],
   "source": [
    "model_sklearn = LogisticRegression(multi_class='multinomial', solver='lbfgs', max_iter=1000)\n",
    "\n",
    "model_sklearn.fit(X_train, y_train)\n",
    "\n",
    "y_pred_sklearn = model_sklearn.predict(X_test)"
   ]
  },
  {
   "cell_type": "code",
   "execution_count": 10,
   "metadata": {},
   "outputs": [
    {
     "name": "stdout",
     "output_type": "stream",
     "text": [
      "Scikit-learn acuracy: 99.65%\n"
     ]
    }
   ],
   "source": [
    "accuracy_sklearn = accuracy_score(y_test, y_pred_sklearn)\n",
    "print(f\"Scikit-learn acuracy: {accuracy_sklearn * 100:.2f}%\")"
   ]
  }
 ],
 "metadata": {
  "kernelspec": {
   "display_name": "Python 3",
   "language": "python",
   "name": "python3"
  },
  "language_info": {
   "codemirror_mode": {
    "name": "ipython",
    "version": 3
   },
   "file_extension": ".py",
   "mimetype": "text/x-python",
   "name": "python",
   "nbconvert_exporter": "python",
   "pygments_lexer": "ipython3",
   "version": "3.11.9"
  }
 },
 "nbformat": 4,
 "nbformat_minor": 2
}
